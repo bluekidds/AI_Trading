{
 "cells": [
  {
   "cell_type": "markdown",
   "id": "5885d6c7",
   "metadata": {},
   "source": [
    "# TA-LIB"
   ]
  },
  {
   "cell_type": "code",
   "execution_count": 1,
   "id": "3b16755f",
   "metadata": {},
   "outputs": [
    {
     "data": {
      "application/javascript": [
       "IPython.OutputArea.prototype._should_scroll = function(lines) {\n",
       "    return false;\n",
       "}\n"
      ],
      "text/plain": [
       "<IPython.core.display.Javascript object>"
      ]
     },
     "metadata": {},
     "output_type": "display_data"
    }
   ],
   "source": [
    "%%javascript\n",
    "IPython.OutputArea.prototype._should_scroll = function(lines) {\n",
    "    return false;\n",
    "}"
   ]
  },
  {
   "cell_type": "code",
   "execution_count": 2,
   "id": "0b688f8e",
   "metadata": {},
   "outputs": [],
   "source": [
    "# imports\n",
    "import pandas as pd\n",
    "import pandas_datareader.data as pdr\n",
    "import datetime\n",
    "import talib\n",
    "from talib.abstract import *\n",
    "from talib import MA_Type\n",
    "\n",
    "# format price data\n",
    "pd.options.display.float_format = '{:0.2f}'.format"
   ]
  },
  {
   "cell_type": "markdown",
   "id": "65f8d1c6",
   "metadata": {},
   "source": [
    "## Data\n",
    "\n",
    "Data from openbb"
   ]
  },
  {
   "cell_type": "code",
   "execution_count": 7,
   "id": "de7e5dc1",
   "metadata": {},
   "outputs": [
    {
     "data": {
      "text/html": [
       "<pre style=\"white-space:pre;overflow-x:auto;line-height:normal;font-family:Menlo,'DejaVu Sans Mono',consolas,'Courier New',monospace\"><span style=\"color: #808000; text-decoration-color: #808000\">Forecasting Toolkit is disabled. To use the Forecasting features please install the toolkit following the instructions here: https://my.openbb.co/app/sdk/installation</span>\n",
       "\n",
       "</pre>\n"
      ],
      "text/plain": [
       "\u001b[33mForecasting Toolkit is disabled. To use the Forecasting features please install the toolkit following the instructions here: https://my.openbb.co/app/sdk/installation\u001b[0m\n",
       "\n"
      ]
     },
     "metadata": {},
     "output_type": "display_data"
    },
    {
     "data": {
      "text/html": [
       "<pre style=\"white-space:pre;overflow-x:auto;line-height:normal;font-family:Menlo,'DejaVu Sans Mono',consolas,'Courier New',monospace\"><span style=\"color: #808000; text-decoration-color: #808000\">Portfolio Optimization Toolkit is disabled. To use the Optimization features please install the toolkit following the instructions here: https://my.openbb.co/app/sdk/installation</span>\n",
       "\n",
       "</pre>\n"
      ],
      "text/plain": [
       "\u001b[33mPortfolio Optimization Toolkit is disabled. To use the Optimization features please install the toolkit following the instructions here: https://my.openbb.co/app/sdk/installation\u001b[0m\n",
       "\n"
      ]
     },
     "metadata": {},
     "output_type": "display_data"
    }
   ],
   "source": [
    "from openbb_terminal.sdk import openbb\n"
   ]
  },
  {
   "cell_type": "code",
   "execution_count": 18,
   "id": "bdc1fccf",
   "metadata": {},
   "outputs": [
    {
     "data": {
      "text/plain": [
       "{'polygon': 'Defined, test passed'}"
      ]
     },
     "execution_count": 18,
     "metadata": {},
     "output_type": "execute_result"
    }
   ],
   "source": [
    "keys='tdfljyhvyTKpnDN38fIJg9mOt2kIbnKp'\n",
    "\n",
    "d ={\"polygon\": {\"key\": keys}}\n",
    "\n",
    "openbb.keys.set_keys(keys_dict=d)\n",
    "#openbb.keys.polygon(key: str, persist: bool = False, show_output: bool = False)"
   ]
  },
  {
   "cell_type": "code",
   "execution_count": 19,
   "id": "df7c807a",
   "metadata": {},
   "outputs": [
    {
     "data": {
      "text/html": [
       "<pre style=\"white-space:pre;overflow-x:auto;line-height:normal;font-family:Menlo,'DejaVu Sans Mono',consolas,'Courier New',monospace\">Loading Daily data for SPY with starting period 2021-09-29.\n",
       "</pre>\n"
      ],
      "text/plain": [
       "Loading Daily data for SPY with starting period 2021-09-29.\n"
      ]
     },
     "metadata": {},
     "output_type": "display_data"
    }
   ],
   "source": [
    "symbol = 'SPY'\n",
    "start = datetime.datetime(2018, 1, 1)\n",
    "end = datetime.datetime.now()\n",
    "\n",
    "stock_data = openbb.stocks.load(symbol, source=\"Polygon\")"
   ]
  },
  {
   "cell_type": "code",
   "execution_count": 20,
   "id": "75609d3c",
   "metadata": {},
   "outputs": [
    {
     "data": {
      "text/html": [
       "<div>\n",
       "<style scoped>\n",
       "    .dataframe tbody tr th:only-of-type {\n",
       "        vertical-align: middle;\n",
       "    }\n",
       "\n",
       "    .dataframe tbody tr th {\n",
       "        vertical-align: top;\n",
       "    }\n",
       "\n",
       "    .dataframe thead th {\n",
       "        text-align: right;\n",
       "    }\n",
       "</style>\n",
       "<table border=\"1\" class=\"dataframe\">\n",
       "  <thead>\n",
       "    <tr style=\"text-align: right;\">\n",
       "      <th></th>\n",
       "      <th>Volume</th>\n",
       "      <th>vw</th>\n",
       "      <th>Open</th>\n",
       "      <th>Adj Close</th>\n",
       "      <th>High</th>\n",
       "      <th>Low</th>\n",
       "      <th>Transactions</th>\n",
       "      <th>Close</th>\n",
       "    </tr>\n",
       "    <tr>\n",
       "      <th>date</th>\n",
       "      <th></th>\n",
       "      <th></th>\n",
       "      <th></th>\n",
       "      <th></th>\n",
       "      <th></th>\n",
       "      <th></th>\n",
       "      <th></th>\n",
       "      <th></th>\n",
       "    </tr>\n",
       "  </thead>\n",
       "  <tbody>\n",
       "    <tr>\n",
       "      <th>2021-09-29</th>\n",
       "      <td>82058963.00</td>\n",
       "      <td>435.30</td>\n",
       "      <td>435.19</td>\n",
       "      <td>434.45</td>\n",
       "      <td>437.04</td>\n",
       "      <td>433.85</td>\n",
       "      <td>598061</td>\n",
       "      <td>434.45</td>\n",
       "    </tr>\n",
       "    <tr>\n",
       "      <th>2021-09-30</th>\n",
       "      <td>140598198.00</td>\n",
       "      <td>432.08</td>\n",
       "      <td>436.02</td>\n",
       "      <td>429.14</td>\n",
       "      <td>436.77</td>\n",
       "      <td>428.78</td>\n",
       "      <td>928225</td>\n",
       "      <td>429.14</td>\n",
       "    </tr>\n",
       "    <tr>\n",
       "      <th>2021-10-01</th>\n",
       "      <td>129107301.00</td>\n",
       "      <td>431.73</td>\n",
       "      <td>430.98</td>\n",
       "      <td>434.24</td>\n",
       "      <td>436.03</td>\n",
       "      <td>427.23</td>\n",
       "      <td>852551</td>\n",
       "      <td>434.24</td>\n",
       "    </tr>\n",
       "    <tr>\n",
       "      <th>2021-10-04</th>\n",
       "      <td>128346956.00</td>\n",
       "      <td>429.08</td>\n",
       "      <td>433.00</td>\n",
       "      <td>428.64</td>\n",
       "      <td>433.96</td>\n",
       "      <td>426.36</td>\n",
       "      <td>940502</td>\n",
       "      <td>428.64</td>\n",
       "    </tr>\n",
       "    <tr>\n",
       "      <th>2021-10-05</th>\n",
       "      <td>90682519.00</td>\n",
       "      <td>433.13</td>\n",
       "      <td>430.24</td>\n",
       "      <td>433.10</td>\n",
       "      <td>435.49</td>\n",
       "      <td>429.39</td>\n",
       "      <td>595529</td>\n",
       "      <td>433.10</td>\n",
       "    </tr>\n",
       "  </tbody>\n",
       "</table>\n",
       "</div>"
      ],
      "text/plain": [
       "                 Volume     vw   Open  Adj Close   High    Low  Transactions  \\\n",
       "date                                                                           \n",
       "2021-09-29  82058963.00 435.30 435.19     434.45 437.04 433.85        598061   \n",
       "2021-09-30 140598198.00 432.08 436.02     429.14 436.77 428.78        928225   \n",
       "2021-10-01 129107301.00 431.73 430.98     434.24 436.03 427.23        852551   \n",
       "2021-10-04 128346956.00 429.08 433.00     428.64 433.96 426.36        940502   \n",
       "2021-10-05  90682519.00 433.13 430.24     433.10 435.49 429.39        595529   \n",
       "\n",
       "            Close  \n",
       "date               \n",
       "2021-09-29 434.45  \n",
       "2021-09-30 429.14  \n",
       "2021-10-01 434.24  \n",
       "2021-10-04 428.64  \n",
       "2021-10-05 433.10  "
      ]
     },
     "execution_count": 20,
     "metadata": {},
     "output_type": "execute_result"
    }
   ],
   "source": [
    "stock_data.head()"
   ]
  },
  {
   "cell_type": "code",
   "execution_count": 21,
   "id": "0906ac7d",
   "metadata": {},
   "outputs": [],
   "source": [
    "openbb.stocks.gov.contracts?"
   ]
  },
  {
   "cell_type": "code",
   "execution_count": 13,
   "id": "e6072862",
   "metadata": {},
   "outputs": [
    {
     "name": "stdout",
     "output_type": "stream",
     "text": [
      "Help on set_reddit_key in module openbb_terminal.keys_model object:\n",
      "\n",
      "class set_reddit_key(builtins.object)\n",
      " |  set_reddit_key(client_id: str, client_secret: str, password: str, username: str, useragent: str, persist: bool = False, show_output: bool = False) -> str\n",
      " |  \n",
      " |  Set Reddit key\n",
      " |  \n",
      " |  Parameters\n",
      " |  ----------\n",
      " |  client_id: str\n",
      " |      Client ID\n",
      " |  client_secret: str\n",
      " |      Client secret\n",
      " |  password: str\n",
      " |      User password\n",
      " |  username: str\n",
      " |      User username\n",
      " |  useragent: str\n",
      " |      User useragent\n",
      " |  persist: bool, optional\n",
      " |      If False, api key change will be contained to where it was changed. For example, a Jupyter notebook session.\n",
      " |      If True, api key change will be global, i.e. it will affect terminal environment variables.\n",
      " |      By default, False.\n",
      " |  show_output: bool, optional\n",
      " |      Display status string or not. By default, False.\n",
      " |  \n",
      " |  Returns\n",
      " |  -------\n",
      " |  str\n",
      " |      Status of key set\n",
      " |  \n",
      " |  Examples\n",
      " |  --------\n",
      " |  >>> from openbb_terminal.sdk import openbb\n",
      " |  >>> openbb.keys.reddit(\n",
      " |          client_id=\"example_id\",\n",
      " |          client_secret=\"example_secret\",\n",
      " |          password=\"example_password\",\n",
      " |          username=\"example_username\",\n",
      " |          useragent=\"example_useragent\"\n",
      " |      )\n",
      " |  \n",
      " |  Methods defined here:\n",
      " |  \n",
      " |  __call__(self, *args: Any, **kwargs: Any) -> Any\n",
      " |      Call self as a function.\n",
      " |  \n",
      " |  __init__(self, name: str, trail: str, func: Callable) -> None\n",
      " |      Initialize self.  See help(type(self)) for accurate signature.\n",
      " |  \n",
      " |  about(self)\n",
      " |  \n",
      " |  ----------------------------------------------------------------------\n",
      " |  Data descriptors defined here:\n",
      " |  \n",
      " |  __dict__\n",
      " |      dictionary for instance variables (if defined)\n",
      " |  \n",
      " |  __weakref__\n",
      " |      list of weak references to the object (if defined)\n",
      " |  \n",
      " |  ----------------------------------------------------------------------\n",
      " |  Data and other attributes defined here:\n",
      " |  \n",
      " |  __annotations__ = {'client_id': <class 'str'>, 'client_secret': <class...\n",
      " |  \n",
      " |  __defaults__ = (False, False)\n",
      " |  \n",
      " |  __kwdefaults__ = None\n",
      " |  \n",
      " |  __signature__ = <Signature (client_id: str, client_secret: str, ... bo...\n",
      "\n"
     ]
    }
   ],
   "source": [
    "help(openbb.keys.reddit)"
   ]
  },
  {
   "cell_type": "code",
   "execution_count": 14,
   "id": "ea1b0006",
   "metadata": {},
   "outputs": [
    {
     "data": {
      "text/html": [
       "<pre style=\"white-space:pre;overflow-x:auto;line-height:normal;font-family:Menlo,'DejaVu Sans Mono',consolas,'Courier New',monospace\"><span style=\"color: #800000; text-decoration-color: #800000\">API_KEY_FINANCIALMODELINGPREP not defined. Set the API key under keys menu.</span>\n",
       "</pre>\n"
      ],
      "text/plain": [
       "\u001b[31mAPI_KEY_FINANCIALMODELINGPREP not defined. Set the API key under keys menu.\u001b[0m\n"
      ]
     },
     "metadata": {},
     "output_type": "display_data"
    }
   ],
   "source": [
    "openbb.stocks.quote(\"AAPL\")"
   ]
  },
  {
   "cell_type": "code",
   "execution_count": null,
   "id": "360c8b7b",
   "metadata": {},
   "outputs": [],
   "source": []
  }
 ],
 "metadata": {
  "kernelspec": {
   "display_name": "Python 3 (ipykernel)",
   "language": "python",
   "name": "python3"
  },
  "language_info": {
   "codemirror_mode": {
    "name": "ipython",
    "version": 3
   },
   "file_extension": ".py",
   "mimetype": "text/x-python",
   "name": "python",
   "nbconvert_exporter": "python",
   "pygments_lexer": "ipython3",
   "version": "3.10.11"
  },
  "toc": {
   "base_numbering": 1,
   "nav_menu": {},
   "number_sections": true,
   "sideBar": true,
   "skip_h1_title": false,
   "title_cell": "Table of Contents",
   "title_sidebar": "Contents",
   "toc_cell": false,
   "toc_position": {},
   "toc_section_display": true,
   "toc_window_display": false
  },
  "varInspector": {
   "cols": {
    "lenName": 16,
    "lenType": 16,
    "lenVar": 40
   },
   "kernels_config": {
    "python": {
     "delete_cmd_postfix": "",
     "delete_cmd_prefix": "del ",
     "library": "var_list.py",
     "varRefreshCmd": "print(var_dic_list())"
    },
    "r": {
     "delete_cmd_postfix": ") ",
     "delete_cmd_prefix": "rm(",
     "library": "var_list.r",
     "varRefreshCmd": "cat(var_dic_list()) "
    }
   },
   "types_to_exclude": [
    "module",
    "function",
    "builtin_function_or_method",
    "instance",
    "_Feature"
   ],
   "window_display": false
  }
 },
 "nbformat": 4,
 "nbformat_minor": 5
}
